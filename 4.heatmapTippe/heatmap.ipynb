{
 "cells": [
  {
   "cell_type": "code",
   "execution_count": 25,
   "metadata": {},
   "outputs": [],
   "source": [
    "import pandas as pd\n",
    "import numpy as np\n",
    "import matplotlib.pyplot as plt\n",
    "import seaborn as sns"
   ]
  },
  {
   "cell_type": "code",
   "execution_count": 54,
   "metadata": {},
   "outputs": [
    {
     "name": "stdout",
     "output_type": "stream",
     "text": [
      "440\n",
      "                                     ss\n",
      "0                        [57,8,6,33,16]\n",
      "2                            [53,44,54]\n",
      "3                          [6,19,32,56]\n",
      "4                            [30,43,42]\n",
      "6                         [19,19,44,44]\n",
      "..                                  ...\n",
      "431                                [43]\n",
      "433        [44,44,19,19,32,19,19,19,44]\n",
      "434                          [57,64,51]\n",
      "437  [32,32,32,29,29,40,40,17,17,33,33]\n",
      "438                       [19,44,19,44]\n",
      "\n",
      "[299 rows x 1 columns]\n"
     ]
    }
   ],
   "source": [
    "df = pd.read_excel('TippecanoeDay1QualsHM.xlsm')\n",
    "heat = df.iloc[:,[17]]\n",
    "print(len(heat.index))\n",
    "heat_temp = heat\n",
    "heat_temp = heat_temp.dropna()\n",
    "heat_temp.isnull()\n",
    "print(heat_temp)"
   ]
  },
  {
   "cell_type": "code",
   "execution_count": 69,
   "metadata": {},
   "outputs": [
    {
     "ename": "AttributeError",
     "evalue": "'DataFrame' object has no attribute 'array'",
     "output_type": "error",
     "traceback": [
      "\u001b[0;31m---------------------------------------------------------------------------\u001b[0m",
      "\u001b[0;31mAttributeError\u001b[0m                            Traceback (most recent call last)",
      "Cell \u001b[0;32mIn[69], line 3\u001b[0m\n\u001b[1;32m      1\u001b[0m mode \u001b[39m=\u001b[39m []\n\u001b[1;32m      2\u001b[0m \u001b[39mfor\u001b[39;00m a \u001b[39min\u001b[39;00m heat_temp:\n\u001b[0;32m----> 3\u001b[0m     heat_temp\u001b[39m.\u001b[39;49marray()\n\u001b[1;32m      4\u001b[0m     val \u001b[39m=\u001b[39m heat_temp\u001b[39m.\u001b[39miloc[a]\n\u001b[1;32m      5\u001b[0m     \u001b[39mfor\u001b[39;00m v \u001b[39min\u001b[39;00m val:\n",
      "File \u001b[0;32m/miniconda3/envs/myenv/lib/python3.10/site-packages/pandas/core/generic.py:5902\u001b[0m, in \u001b[0;36mNDFrame.__getattr__\u001b[0;34m(self, name)\u001b[0m\n\u001b[1;32m   5895\u001b[0m \u001b[39mif\u001b[39;00m (\n\u001b[1;32m   5896\u001b[0m     name \u001b[39mnot\u001b[39;00m \u001b[39min\u001b[39;00m \u001b[39mself\u001b[39m\u001b[39m.\u001b[39m_internal_names_set\n\u001b[1;32m   5897\u001b[0m     \u001b[39mand\u001b[39;00m name \u001b[39mnot\u001b[39;00m \u001b[39min\u001b[39;00m \u001b[39mself\u001b[39m\u001b[39m.\u001b[39m_metadata\n\u001b[1;32m   5898\u001b[0m     \u001b[39mand\u001b[39;00m name \u001b[39mnot\u001b[39;00m \u001b[39min\u001b[39;00m \u001b[39mself\u001b[39m\u001b[39m.\u001b[39m_accessors\n\u001b[1;32m   5899\u001b[0m     \u001b[39mand\u001b[39;00m \u001b[39mself\u001b[39m\u001b[39m.\u001b[39m_info_axis\u001b[39m.\u001b[39m_can_hold_identifiers_and_holds_name(name)\n\u001b[1;32m   5900\u001b[0m ):\n\u001b[1;32m   5901\u001b[0m     \u001b[39mreturn\u001b[39;00m \u001b[39mself\u001b[39m[name]\n\u001b[0;32m-> 5902\u001b[0m \u001b[39mreturn\u001b[39;00m \u001b[39mobject\u001b[39;49m\u001b[39m.\u001b[39;49m\u001b[39m__getattribute__\u001b[39;49m(\u001b[39mself\u001b[39;49m, name)\n",
      "\u001b[0;31mAttributeError\u001b[0m: 'DataFrame' object has no attribute 'array'"
     ]
    }
   ],
   "source": [
    "mode = []\n",
    "for a in heat_temp:\n",
    "    val = heat_temp.iloc[a]\n",
    "    for v in val:\n",
    "        mode.append(v)"
   ]
  },
  {
   "cell_type": "code",
   "execution_count": 79,
   "metadata": {},
   "outputs": [
    {
     "name": "stdout",
     "output_type": "stream",
     "text": [
      "<xarray.Dataset>\n",
      "Dimensions:  (index: 299)\n",
      "Coordinates:\n",
      "  * index    (index) int64 0 2 3 4 6 7 8 9 ... 427 428 429 431 433 434 437 438\n",
      "Data variables:\n",
      "    ss       (index) object '[57,8,6,33,16]' '[53,44,54]' ... '[19,44,19,44]'\n"
     ]
    }
   ],
   "source": [
    "type = heat_temp.to_xarray()\n",
    "print(type)"
   ]
  }
 ],
 "metadata": {
  "kernelspec": {
   "display_name": "Python 3",
   "language": "python",
   "name": "python3"
  },
  "language_info": {
   "codemirror_mode": {
    "name": "ipython",
    "version": 3
   },
   "file_extension": ".py",
   "mimetype": "text/x-python",
   "name": "python",
   "nbconvert_exporter": "python",
   "pygments_lexer": "ipython3",
   "version": "3.10.9"
  },
  "orig_nbformat": 4,
  "vscode": {
   "interpreter": {
    "hash": "2e1374df3186cad4597f0a1cde2c500d81eb5f038e10d5b62e12007652e78c03"
   }
  }
 },
 "nbformat": 4,
 "nbformat_minor": 2
}
