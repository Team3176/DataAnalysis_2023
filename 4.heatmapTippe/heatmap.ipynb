{
 "cells": [
  {
   "cell_type": "code",
   "execution_count": 203,
   "metadata": {},
   "outputs": [],
   "source": [
    "import pandas as pd\n",
    "import numpy as np\n",
    "import matplotlib.pyplot as plt\n",
    "import seaborn as sns\n",
    "import random"
   ]
  },
  {
   "cell_type": "code",
   "execution_count": null,
   "metadata": {},
   "outputs": [],
   "source": [
    "df = pd.read_excel('TippecanoeDay1QualsHM.xlsm')\n",
    "heat = df.iloc[:,[17]]\n",
    "heat_temp = heat\n",
    "heat_temp = heat_temp.dropna()\n",
    "heat_temp.isnull()\n",
    "print(heat_temp)\n"
   ]
  },
  {
   "cell_type": "code",
   "execution_count": 211,
   "metadata": {},
   "outputs": [
    {
     "name": "stdout",
     "output_type": "stream",
     "text": [
      "[4, 5, 6, 7, 8, 9, 10, 15, 16, 17, 18, 19, 20, 21, 22, 27, 28, 29, 30, 31, 32, 33, 34, 35, 39, 40, 41, 42, 43, 44, 45, 46, 48, 51, 52, 53, 54, 55, 56, 57, 58, 64, 65, 66, 67, 69, 70]\n"
     ]
    },
    {
     "ename": "ValueError",
     "evalue": "list.remove(x): x not in list",
     "output_type": "error",
     "traceback": [
      "\u001b[0;31m---------------------------------------------------------------------------\u001b[0m",
      "\u001b[0;31mValueError\u001b[0m                                Traceback (most recent call last)",
      "Cell \u001b[0;32mIn[211], line 32\u001b[0m\n\u001b[1;32m     30\u001b[0m f \u001b[39m=\u001b[39m \u001b[39m0\u001b[39m\n\u001b[1;32m     31\u001b[0m \u001b[39mwhile\u001b[39;00m f \u001b[39m<\u001b[39m \u001b[39mall\u001b[39m\u001b[39m.\u001b[39m__sizeof__():\n\u001b[0;32m---> 32\u001b[0m     freq\u001b[39m.\u001b[39;49mremove(\u001b[39m0\u001b[39;49m)\n\u001b[1;32m     33\u001b[0m     f \u001b[39m=\u001b[39m f \u001b[39m+\u001b[39m \u001b[39m1\u001b[39m\n\u001b[1;32m     34\u001b[0m \u001b[39mprint\u001b[39m(freq)\n",
      "\u001b[0;31mValueError\u001b[0m: list.remove(x): x not in list"
     ]
    }
   ],
   "source": [
    "hs = heat_temp.convert_dtypes('str')\n",
    "hs.dropna()\n",
    "r = 0\n",
    "vals = []\n",
    "while r < 299:\n",
    "    pin = hs.iat[r, 0]\n",
    "    vals.append(pin)\n",
    "    r = r + 1\n",
    "\n",
    "all = []\n",
    "hmi = [eval(v) for v in vals]\n",
    "for h in hmi:\n",
    "    parse = h\n",
    "    for p in parse:\n",
    "        all.append(p)\n",
    "all.sort()\n",
    "\n",
    "qs = []\n",
    "for q in all:\n",
    "    if q not in qs:\n",
    "        qs.append(q)\n",
    "print(qs)\n",
    "\n",
    "freq = []\n",
    "a = 0\n",
    "while a < 299:\n",
    "    each = all.count(a)\n",
    "    freq.append(each)\n",
    "    a = a + 1\n",
    "f = 0\n",
    "while f < 252:\n",
    "    freq.remove(0)\n",
    "    f = f + 1\n",
    "print(freq)"
   ]
  },
  {
   "cell_type": "code",
   "execution_count": 209,
   "metadata": {},
   "outputs": [
    {
     "data": {
      "image/png": "[encoded data removed]",
      "text/plain": [
       "<Figure size 200x200 with 1 Axes>"
      ]
     },
     "metadata": {},
     "output_type": "display_data"
    }
   ],
   "source": [
    "fig, ax = plt.subplots()\n",
    "\n",
    "x = qs\n",
    "y = freq\n",
    "ax.bar(x, y, color=\"purple\")\n",
    "\n",
    "plt.show()"
   ]
  },
  {
   "cell_type": "code",
   "execution_count": 207,
   "metadata": {},
   "outputs": [
    {
     "data": {
      "image/png": "[encoded data removed]",
      "text/plain": [
       "<Figure size 200x200 with 1 Axes>"
      ]
     },
     "metadata": {},
     "output_type": "display_data"
    }
   ],
   "source": [
    "plt.style.use('_mpl-gallery')\n",
    "\n",
    "x = qs\n",
    "y = freq\n",
    "\n",
    "fig, ax = plt.subplots()\n",
    "ax.scatter(x, y, c=\"purple\")\n",
    "\n",
    "plt.show()"
   ]
  }
 ],
 "metadata": {
  "kernelspec": {
   "display_name": "Python 3",
   "language": "python",
   "name": "python3"
  },
  "language_info": {
   "codemirror_mode": {
    "name": "ipython",
    "version": 3
   },
   "file_extension": ".py",
   "mimetype": "text/x-python",
   "name": "python",
   "nbconvert_exporter": "python",
   "pygments_lexer": "ipython3",
   "version": "3.10.9"
  },
  "orig_nbformat": 4,
  "vscode": {
   "interpreter": {
    "hash": "2e1374df3186cad4597f0a1cde2c500d81eb5f038e10d5b62e12007652e78c03"
   }
  }
 },
 "nbformat": 4,
 "nbformat_minor": 2
}
